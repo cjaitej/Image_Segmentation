{
 "cells": [
  {
   "cell_type": "code",
   "execution_count": null,
   "id": "2a8153e0",
   "metadata": {},
   "outputs": [],
   "source": [
    "import os"
   ]
  },
  {
   "cell_type": "code",
   "execution_count": null,
   "id": "f4a054b3",
   "metadata": {},
   "outputs": [],
   "source": [
    "image_dir = \"C:/Data/one_more_hd/train/cloth\"\n",
    "mask_dir = \"C:/Data/one_more_hd/train/cloth-mask\""
   ]
  },
  {
   "cell_type": "code",
   "execution_count": null,
   "id": "d25da712",
   "metadata": {},
   "outputs": [],
   "source": [
    "images = os.listdir(image_dir)\n",
    "masks = os.listdir(mask_dir)"
   ]
  },
  {
   "cell_type": "code",
   "execution_count": null,
   "id": "abc44332",
   "metadata": {},
   "outputs": [],
   "source": [
    "n_images, n_masks = len(images), len(masks)"
   ]
  },
  {
   "cell_type": "code",
   "execution_count": null,
   "id": "9b804883",
   "metadata": {},
   "outputs": [],
   "source": [
    "train_data = images[:int(n_images*0.7)]"
   ]
  },
  {
   "cell_type": "code",
   "execution_count": null,
   "id": "07777a1b",
   "metadata": {},
   "outputs": [],
   "source": [
    "test_data = images[int(n_images*0.7):]"
   ]
  },
  {
   "cell_type": "code",
   "execution_count": null,
   "id": "e8d5896c",
   "metadata": {},
   "outputs": [],
   "source": [
    "from PIL import Image\n",
    "import numpy as np\n",
    "import matplotlib.pyplot as plt"
   ]
  },
  {
   "cell_type": "code",
   "execution_count": null,
   "id": "35eaba6b",
   "metadata": {},
   "outputs": [],
   "source": [
    "img_path = os.path.join(image_dir, train_data[0])\n",
    "mask_path = os.path.join(mask_dir, train_data[0])"
   ]
  },
  {
   "cell_type": "code",
   "execution_count": null,
   "id": "655b7a73",
   "metadata": {},
   "outputs": [],
   "source": [
    "img = np.array(Image.open(img_path).convert(\"RGB\").resize((192, 256)))/255.0\n",
    "mask = (np.array(Image.open(mask_path).resize((192, 256)))/255.0).astype('int8')"
   ]
  },
  {
   "cell_type": "code",
   "execution_count": null,
   "id": "019902db",
   "metadata": {},
   "outputs": [],
   "source": [
    "plt.imshow(img)\n",
    "plt.show()\n",
    "plt.imshow(mask)\n",
    "plt.show()"
   ]
  },
  {
   "cell_type": "code",
   "execution_count": null,
   "id": "00917e9e",
   "metadata": {},
   "outputs": [],
   "source": [
    "np.min(mask)"
   ]
  },
  {
   "cell_type": "code",
   "execution_count": null,
   "id": "12f7689d",
   "metadata": {},
   "outputs": [],
   "source": [
    "np.unique(mask)"
   ]
  },
  {
   "cell_type": "code",
   "execution_count": null,
   "id": "9a1737ae",
   "metadata": {},
   "outputs": [],
   "source": [
    "mask.shape"
   ]
  },
  {
   "cell_type": "code",
   "execution_count": null,
   "id": "a24b0606",
   "metadata": {},
   "outputs": [],
   "source": [
    "mask"
   ]
  },
  {
   "cell_type": "code",
   "execution_count": 6,
   "id": "4c883a52",
   "metadata": {},
   "outputs": [],
   "source": [
    "import torch\n",
    "import os\n",
    "# import albumentations as A\n",
    "# from albumentations.pytorch import ToTensorV2\n",
    "from tqdm import tqdm\n",
    "import torch.nn as nn\n",
    "import torch.optim as optim\n",
    "from UNet import UNet\n",
    "from utils import (\n",
    "    save_checkpoint,\n",
    "    get_loader,\n",
    ")\n",
    "\n",
    "\n",
    "LEARNING_RATE = 1e-5\n",
    "DEVICE = \"cuda\" if torch.cuda.is_available() else \"cpu\"\n",
    "BATCH_SIZE = 16\n",
    "NUM_EPOCHS = 100\n",
    "NUM_WORKERS = 2\n",
    "IMAGE_HEIGHT = 128\n",
    "IMAGE_WIDTH = 64\n",
    "PIN_MEMORY = True\n",
    "LOAD_MODEL = True\n",
    "TRAIN_IMG_DIR = \"C:/Data/one_more_hd/train/cloth\"\n",
    "TRAIN_MASK_DIR = \"C:/Data/one_more_hd/train/cloth-mask\""
   ]
  },
  {
   "cell_type": "code",
   "execution_count": 7,
   "id": "52b6850e",
   "metadata": {},
   "outputs": [],
   "source": [
    "train_loader = get_loader(TRAIN_IMG_DIR, TRAIN_MASK_DIR, BATCH_SIZE)"
   ]
  },
  {
   "cell_type": "code",
   "execution_count": 8,
   "id": "a7749190",
   "metadata": {},
   "outputs": [
    {
     "data": {
      "text/plain": [
       "<torch.utils.data.dataloader.DataLoader at 0x1a8a35281f0>"
      ]
     },
     "execution_count": 8,
     "metadata": {},
     "output_type": "execute_result"
    }
   ],
   "source": [
    "train_loader"
   ]
  },
  {
   "cell_type": "code",
   "execution_count": 9,
   "id": "a737d5bd",
   "metadata": {},
   "outputs": [
    {
     "name": "stdout",
     "output_type": "stream",
     "text": [
      "torch.Size([16, 3, 256, 512])\n",
      "torch.Size([16, 256, 512])\n"
     ]
    }
   ],
   "source": [
    "for image, mask in train_loader:\n",
    "    print(image.shape)\n",
    "    print(mask.shape)\n",
    "    break"
   ]
  },
  {
   "cell_type": "code",
   "execution_count": null,
   "id": "ef21cf76",
   "metadata": {},
   "outputs": [],
   "source": []
  }
 ],
 "metadata": {
  "kernelspec": {
   "display_name": "Python 3 (ipykernel)",
   "language": "python",
   "name": "python3"
  },
  "language_info": {
   "codemirror_mode": {
    "name": "ipython",
    "version": 3
   },
   "file_extension": ".py",
   "mimetype": "text/x-python",
   "name": "python",
   "nbconvert_exporter": "python",
   "pygments_lexer": "ipython3",
   "version": "3.10.8"
  }
 },
 "nbformat": 4,
 "nbformat_minor": 5
}
